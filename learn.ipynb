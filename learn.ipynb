{
 "cells": [
  {
   "cell_type": "code",
   "execution_count": 1,
   "id": "initial_id",
   "metadata": {
    "ExecuteTime": {
     "end_time": "2024-08-29T14:46:02.583762Z",
     "start_time": "2024-08-29T14:45:59.041735Z"
    },
    "collapsed": true,
    "jupyter": {
     "outputs_hidden": true
    }
   },
   "outputs": [],
   "source": [
    "import torch\n",
    "import numpy as np\n",
    "#当时为了配置好gpu,先是下载cuda对应版本的pytorch,然后下载了cudnn.配置系统变量。"
   ]
  },
  {
   "cell_type": "markdown",
   "id": "15f43c577b54c700",
   "metadata": {},
   "source": [
    "# Tensor Initialization\n"
   ]
  },
  {
   "cell_type": "code",
   "execution_count": 2,
   "id": "2f2f280a8ec76442",
   "metadata": {
    "ExecuteTime": {
     "end_time": "2024-08-29T14:46:45.071921Z",
     "start_time": "2024-08-29T14:46:45.039005Z"
    }
   },
   "outputs": [
    {
     "name": "stdout",
     "output_type": "stream",
     "text": [
      "[[1, 2], [3, 4]]\n",
      "tensor([[1, 2],\n",
      "        [3, 4]])\n"
     ]
    }
   ],
   "source": [
    "#Directly from data\n",
    "data=[[1,2],[3,4]]\n",
    "x_data=torch.tensor(data)\n",
    "print(data)\n",
    "print(x_data)"
   ]
  },
  {
   "cell_type": "code",
   "execution_count": 3,
   "id": "b6fba5fc55fe4e4d",
   "metadata": {
    "ExecuteTime": {
     "end_time": "2024-08-29T14:48:21.127521Z",
     "start_time": "2024-08-29T14:48:21.109959Z"
    }
   },
   "outputs": [
    {
     "name": "stdout",
     "output_type": "stream",
     "text": [
      "[[1 2]\n",
      " [3 4]]\n",
      "tensor([[1, 2],\n",
      "        [3, 4]], dtype=torch.int32)\n"
     ]
    }
   ],
   "source": [
    "#From a Numpy array\n",
    "np_array=np.array(data)\n",
    "x_np=torch.from_numpy(np_array)\n",
    "print(np_array)\n",
    "print(x_np)"
   ]
  },
  {
   "cell_type": "code",
   "execution_count": 4,
   "id": "e91a34830d220b8e",
   "metadata": {
    "ExecuteTime": {
     "end_time": "2024-08-29T14:52:01.712251Z",
     "start_time": "2024-08-29T14:52:01.637931Z"
    }
   },
   "outputs": [
    {
     "name": "stdout",
     "output_type": "stream",
     "text": [
      "Ones Tensor: \n",
      " tensor([[1, 1],\n",
      "        [1, 1]]) \n",
      "\n",
      "Random Tensor: \n",
      " tensor([[0.1548, 0.9074],\n",
      "        [0.2811, 0.5504]]) \n",
      "\n"
     ]
    }
   ],
   "source": [
    "#From another tensor\n",
    "x_ones=torch.ones_like(x_data)\n",
    "print(f\"Ones Tensor: \\n {x_ones} \\n\")\n",
    "x_rand=torch.rand_like(x_data,dtype=torch.float)\n",
    "print(f\"Random Tensor: \\n {x_rand} \\n\")"
   ]
  },
  {
   "cell_type": "code",
   "execution_count": 6,
   "id": "bc529b5edb4d74c0",
   "metadata": {
    "ExecuteTime": {
     "end_time": "2024-08-29T14:54:04.205991Z",
     "start_time": "2024-08-29T14:54:04.163828Z"
    }
   },
   "outputs": [
    {
     "name": "stdout",
     "output_type": "stream",
     "text": [
      "Random Tensor: \n",
      " tensor([[0.9429, 0.5457, 0.1810],\n",
      "        [0.8819, 0.2353, 0.1806]]) \n",
      "\n",
      "Ones Tensor: \n",
      " tensor([[1., 1., 1.],\n",
      "        [1., 1., 1.]]) \n",
      "\n",
      "Zeros Tensor: \n",
      " tensor([[0., 0., 0.],\n",
      "        [0., 0., 0.]])\n"
     ]
    }
   ],
   "source": [
    "#With random and constant values\n",
    "shape = (2, 3,)\n",
    "rand_tensor = torch.rand(shape)\n",
    "ones_tensor = torch.ones(shape)\n",
    "zeros_tensor = torch.zeros(shape)\n",
    "\n",
    "print(f\"Random Tensor: \\n {rand_tensor} \\n\")\n",
    "print(f\"Ones Tensor: \\n {ones_tensor} \\n\")\n",
    "print(f\"Zeros Tensor: \\n {zeros_tensor}\")"
   ]
  },
  {
   "cell_type": "code",
   "execution_count": 7,
   "id": "e4546df8fc95a28d",
   "metadata": {
    "ExecuteTime": {
     "end_time": "2024-08-29T14:57:03.576548Z",
     "start_time": "2024-08-29T14:57:03.561715Z"
    }
   },
   "outputs": [
    {
     "name": "stdout",
     "output_type": "stream",
     "text": [
      "Shape of tensor: torch.Size([3, 4])\n",
      "Datatype of tensor: torch.float32\n",
      "Device tensor is stored on: cpu\n"
     ]
    }
   ],
   "source": [
    "#Tensor Attributes\n",
    "tensor = torch.rand(3, 4)\n",
    "\n",
    "print(f\"Shape of tensor: {tensor.shape}\")\n",
    "print(f\"Datatype of tensor: {tensor.dtype}\")\n",
    "print(f\"Device tensor is stored on: {tensor.device}\")"
   ]
  },
  {
   "cell_type": "code",
   "execution_count": 8,
   "id": "2b27ad13fe87945a",
   "metadata": {
    "ExecuteTime": {
     "end_time": "2024-08-29T15:05:35.508597Z",
     "start_time": "2024-08-29T15:05:35.279542Z"
    }
   },
   "outputs": [
    {
     "name": "stdout",
     "output_type": "stream",
     "text": [
      "Device tensor is stored on: cuda:0\n"
     ]
    }
   ],
   "source": [
    "#Tensor Operations操作\n",
    "# We move our tensor to the GPU if available\n",
    "if torch.cuda.is_available():\n",
    "  tensor = tensor.to('cuda')\n",
    "  print(f\"Device tensor is stored on: {tensor.device}\")\n",
    "tensor = torch.ones(4, 4)\n",
    "tensor[:,1] = 0\n",
    "print(tensor)"
   ]
  },
  {
   "cell_type": "code",
   "execution_count": null,
   "id": "dadb205e539a9f8d",
   "metadata": {},
   "outputs": [],
   "source": [
    "# This computes the element-wise product元素积\n",
    "print(f\"tensor.mul(tensor) \\n {tensor.mul(tensor)} \\n\")\n",
    "# Alternative syntax:\n",
    "print(f\"tensor * tensor \\n {tensor * tensor}\")\n",
    "#This computes the matrix multiplication between two tensors\n",
    "\n",
    "print(f\"tensor.matmul(tensor.T) \\n {tensor.matmul(tensor.T)} \\n\")\n",
    "# Alternative syntax:\n",
    "print(f\"tensor @ tensor.T \\n {tensor @ tensor.T}\")\n"
   ]
  },
  {
   "cell_type": "code",
   "execution_count": 9,
   "id": "4c6facf74cc8df76",
   "metadata": {
    "ExecuteTime": {
     "end_time": "2024-08-29T15:19:38.813396Z",
     "start_time": "2024-08-29T15:19:38.767252Z"
    }
   },
   "outputs": [
    {
     "name": "stdout",
     "output_type": "stream",
     "text": [
      "tensor([[0.1321, 0.4433, 0.6876, 0.1640],\n",
      "        [0.5174, 0.0414, 0.3493, 0.1932],\n",
      "        [0.5312, 0.3532, 0.4461, 0.5794]], device='cuda:0') \n",
      "\n",
      "tensor([[5.1321, 5.4433, 5.6876, 5.1640],\n",
      "        [5.5174, 5.0414, 5.3493, 5.1932],\n",
      "        [5.5312, 5.3532, 5.4461, 5.5794]], device='cuda:0')\n"
     ]
    }
   ],
   "source": [
    "#In-place operations Operations that have a _ suffix are in-place. For example: x.copy_(y), x.t_(), will change x.改变自己\n",
    "\n",
    "print(tensor, \"\\n\")\n",
    "tensor.add_(5)\n",
    "print(tensor)\n"
   ]
  },
  {
   "cell_type": "markdown",
   "id": "7e3b5426f41591ac",
   "metadata": {},
   "source": [
    "# Bridge with NumPy\n",
    "Tensors on the CPU and NumPy arrays can share their underlying底层 memory locations, and changing one will change the other."
   ]
  },
  {
   "cell_type": "code",
   "execution_count": 10,
   "id": "860d574972cd6fb2",
   "metadata": {
    "ExecuteTime": {
     "end_time": "2024-08-29T15:23:21.793938Z",
     "start_time": "2024-08-29T15:23:21.748061Z"
    }
   },
   "outputs": [
    {
     "name": "stdout",
     "output_type": "stream",
     "text": [
      "t: tensor([1., 1., 1., 1., 1.])\n",
      "n: [1. 1. 1. 1. 1.]\n",
      "t: tensor([2., 2., 2., 2., 2.])\n",
      "n: [2. 2. 2. 2. 2.]\n",
      "t: tensor([2., 2., 2., 2., 2.], dtype=torch.float64)\n",
      "n: [2. 2. 2. 2. 2.]\n"
     ]
    }
   ],
   "source": [
    "t = torch.ones(5)\n",
    "print(f\"t: {t}\")\n",
    "n = t.numpy()\n",
    "print(f\"n: {n}\")\n",
    "t.add_(1)\n",
    "print(f\"t: {t}\")\n",
    "print(f\"n: {n}\")\n",
    "\n",
    "n = np.ones(5)\n",
    "t = torch.from_numpy(n)\n",
    "np.add(n, 1, out=n)\n",
    "print(f\"t: {t}\")\n",
    "print(f\"n: {n}\")"
   ]
  },
  {
   "cell_type": "markdown",
   "id": "8733635e4fa3e49f",
   "metadata": {},
   "source": [
    "# A Gentle Introduction to torch.autograd\n"
   ]
  },
  {
   "cell_type": "markdown",
   "id": "49f353cd3fae1417",
   "metadata": {},
   "source": [
    "Neural networks (NNs) are a collection of nested嵌套 functions that are executed执行 on some input data.\n",
    "\n",
    "Forward Propagation: In forward prop, the NN makes its best guess about the correct output. It runs the input data through each of its functions to make this guess. Backward Propagation: In backprop, the NN adjusts its parameters proportionate to the error in its guess. It does this by traversing backwards from the output, collecting the derivatives导数 of the error with respect to the parameters of the functions (gradients), and optimizing the parameters using gradient descent梯度下降. For a more detailed walkthrough演示 of backprop, check out this video from 3Blue1Brown.\n",
    "\n",
    "前向传播:在前向传播中，神经网络对正确的输出做出最好的猜测。它通过每个函数运行输入数据来进行猜测。\n",
    "反向传播:在反向传播中，神经网络根据其猜测中的误差调整其参数。它通过从输出向后遍历，收集误差相对于函数参数(梯度)的导数，并使用梯度下降优化参数来实现这一点。要了解更详细的反向道具演练，请查看3Blue1Brown的视频。"
   ]
  },
  {
   "cell_type": "code",
   "execution_count": 8,
   "id": "30d94ee116cb370e",
   "metadata": {
    "ExecuteTime": {
     "end_time": "2024-08-30T03:57:04.469534Z",
     "start_time": "2024-08-30T03:57:04.284449Z"
    }
   },
   "outputs": [],
   "source": [
    "import torch\n",
    "from torchvision.models import resnet18, ResNet18_Weights\n",
    "model = resnet18(weights=ResNet18_Weights.DEFAULT)\n",
    "data = torch.rand(1, 3, 64, 64)\n",
    "labels = torch.rand(1, 1000)"
   ]
  },
  {
   "cell_type": "code",
   "execution_count": 9,
   "id": "7ff76b5b859f19c8",
   "metadata": {
    "ExecuteTime": {
     "end_time": "2024-08-30T03:57:07.008133Z",
     "start_time": "2024-08-30T03:57:06.925774Z"
    }
   },
   "outputs": [
    {
     "name": "stdout",
     "output_type": "stream",
     "text": [
      "torch.Size([1, 1000])\n",
      "torch.Size([1, 1000])\n"
     ]
    }
   ],
   "source": [
    "#向前传播\n",
    "prediction = model(data) # forward pass\n",
    "#向后传播\n",
    "print(prediction.size())\n",
    "print(labels.size())\n",
    "loss = (prediction - labels).sum()\n",
    "loss.backward() # backward pass\n",
    "# we load an optimizer, in this case SGD with a learning rate学习率 of 0.01 and momentum动量 of 0.9. We register all the parameters of the model in the optimizer.\n",
    "optim = torch.optim.SGD(model.parameters(), lr=1e-2, momentum=0.9)\n",
    "optim.step() #gradient descent"
   ]
  },
  {
   "cell_type": "markdown",
   "id": "171512cefa8db5fe",
   "metadata": {},
   "source": [
    "关于prediction的尺寸为(1, 1000)的原因如下：\n",
    "输入数据形状: data是一个形状为(1, 3, 64, 64)的张量，表示一个批次包含1个样本，每个样本有3个通道（如RGB图像），高度和宽度分别为64像素。\n",
    "\n",
    "ResNet-18模型结构: ResNet-18是一个用于图像分类任务的卷积神经网络。它将输入图像通过一系列卷积层、池化层和全连接层处理后，输出一个长度为1000的向量。这个向量对应ImageNet数据集中1000个不同的类别。\n",
    "\n",
    "输出维度解释: 输出prediction的形状为(1, 1000)意味着对于输入的一个图像样本，模型产生了1000个预测值，每个值代表图像属于ImageNet数据集中某个类别的概率或得分respectve各自的\n",
    "accumulate累积，backward 反向，dynamic动态的，exclude排除，gradient梯度，loss损失，optimizer优化器，parameter参数，prediction预测，step步，tensor张量，weight权重。"
   ]
  },
  {
   "cell_type": "raw",
   "id": "ab8f903560d71729",
   "metadata": {},
   "source": [
    "梯度就是个向量，梯度方向是函数增长最快的方向，而负梯度方向则是函数降低最快的方向。\n",
    "我们可以把梯度下降法理解为一个下山（求解函数极值）的过程。假设这样一个场景：小白今天去登山，但是在下山回家的时候，突然山上出现了浓雾。由于出现了浓雾，小白已经看不到可以从哪条路回到山脚了。这个时候可以怎么办？小白说我要利用梯度下降去下山！\n",
    "\n",
    "具体来说是这么说的，小白站在当前所在的位置，找到目前位置一个最陡峭的下降方向，然后朝着这个方向走一段距离，先下一段。由于下山的道路是不断起伏变化的的，所以小白在每走一段距离后，会在新的位置，在重新找一个最陡峭的下降方向王下周。重复利用这个方法不断修订一下接下来的行走方向想下走，最终成功下山了。\n"
   ]
  },
  {
   "cell_type": "markdown",
   "id": "ffb0090680f9ec87",
   "metadata": {},
   "source": [
    "梯度下降法\n",
    "梯度下降是一种用于求解最小化问题的迭代优化算法，通常用于机器学习中的参数优化。它的基本思想是通过沿着目标函数（通常是损失函数或成本函数）梯度的负方向来更新参数，从而逐渐减小目标函数的值，直到找到一个局部最小值或全局最小值。\n",
    "梯度下降有几种变体：\n",
    "批量梯度下降 (Batch Gradient Descent): 使用所有训练样本计算梯度并更新参数。\n",
    "随机梯度下降 (Stochastic Gradient Descent, SGD): 每次只用一个训练样本来估计梯度，并更新参数。\n",
    "小批量梯度下降 (Mini-batch Gradient Descent): 折中方案，每次使用一小批训练样本来估计梯度。\n",
    "\n",
    "学习率\n",
    "学习率（Learning Rate）是梯度下降算法中的一个重要超参数，它决定了参数更新的步长。具体来说，学习率决定了我们沿着梯度方向移动多远。选择合适的学习率非常重要：\n",
    "如果学习率太小，算法收敛速度会很慢。\n",
    "如果学习率太大，则可能导致在最小值附近震荡甚至发散。\n",
    "为了提高效率和稳定性，有时会使用自适应学习率的方法，如Adagrad、RMSprop、Adam等算法，它们能够自动调整不同参数的学习率。\n",
    "\n",
    "动量\n",
    "动量（Momentum）是梯度下降的一个改进版本，其目的是加速收敛速度并帮助算法更快地穿过平坦区域。动量的思想是在更新参数时不仅考虑当前梯度的方向，还考虑之前的更新方向，即给当前的更新加上一个“动量”项，使得参数更新具有惯性。这样可以帮助梯度下降更快地逃出一些局部极小值或者鞍点。\n",
    "动量项通常是一个介于0到1之间的系数，乘以前一次的更新量，然后加到当前的梯度上。动量项的引入有助于平滑参数更新的过程，减少振荡，特别是在损失函数曲面有很多维度的情况下。\n",
    "在实践中，选择合适的学习率和动量系数是通过实验和调参来完成的。不同的问题可能需要不同的设置来获得最佳性能。"
   ]
  },
  {
   "cell_type": "markdown",
   "id": "8318b9be787f7daa",
   "metadata": {},
   "source": [
    "# Neural Networks"
   ]
  },
  {
   "cell_type": "markdown",
   "id": "bb273b21e757c713",
   "metadata": {},
   "source": [
    "A typical training procedure过程 for a neural network is as follows:\n",
    "\n",
    "    Define the neural network that has some learnable parameters (or weights)\n",
    "\n",
    "    Iterate迭代 over a dataset of inputs\n",
    "\n",
    "    Process input through the network\n",
    "\n",
    "    Compute the loss (how far is the output from being correct)\n",
    "\n",
    "    Propagate传播 gradients back into the network’s parameters\n",
    "\n",
    "    Update the weights of the network, typically using a simple update rule: weight = weight - learning_rate * gradient\n"
   ]
  },
  {
   "cell_type": "code",
   "execution_count": 2,
   "id": "83de46a48872b6e9",
   "metadata": {
    "ExecuteTime": {
     "end_time": "2024-08-30T12:44:37.763577Z",
     "start_time": "2024-08-30T12:44:32.340184Z"
    }
   },
   "outputs": [
    {
     "name": "stdout",
     "output_type": "stream",
     "text": [
      "Net(\n",
      "  (conv1): Conv2d(1, 6, kernel_size=(5, 5), stride=(1, 1))\n",
      "  (conv2): Conv2d(6, 16, kernel_size=(5, 5), stride=(1, 1))\n",
      "  (fc1): Linear(in_features=400, out_features=120, bias=True)\n",
      "  (fc2): Linear(in_features=120, out_features=84, bias=True)\n",
      "  (fc3): Linear(in_features=84, out_features=10, bias=True)\n",
      ")\n"
     ]
    }
   ],
   "source": [
    "#define the neural network\n",
    "import torch\n",
    "import torch.nn as nn\n",
    "import torch.nn.functional as F\n",
    "\n",
    "\n",
    "class Net(nn.Module):\n",
    "\n",
    "    def __init__(self):\n",
    "        super(Net, self).__init__()\n",
    "        # 1 input image channel, 6 output channels, 5x5 square convolution\n",
    "        # kernel\n",
    "        self.conv1 = nn.Conv2d(1, 6, 5)\n",
    "        self.conv2 = nn.Conv2d(6, 16, 5)\n",
    "        # an affine operation: y = Wx + b\n",
    "        self.fc1 = nn.Linear(16 * 5 * 5, 120)  # 5*5 from image dimension\n",
    "        self.fc2 = nn.Linear(120, 84)\n",
    "        self.fc3 = nn.Linear(84, 10)\n",
    "\n",
    "    def forward(self, input):\n",
    "        # Convolution layer C1: 1 input image channel, 6 output channels,\n",
    "        # 5x5 square convolution, it uses RELU activation function, and\n",
    "        # outputs a Tensor with size (N, 6, 28, 28), where N is the size of the batch\n",
    "        c1 = F.relu(self.conv1(input))\n",
    "        # Subsampling layer S2: 2x2 grid, purely functional,\n",
    "        # this layer does not have any parameter, and outputs a (N, 6, 14, 14) Tensor\n",
    "        s2 = F.max_pool2d(c1, (2, 2))\n",
    "        # Convolution layer C3: 6 input channels, 16 output channels,\n",
    "        # 5x5 square convolution, it uses RELU activation function, and\n",
    "        # outputs a (N, 16, 10, 10) Tensor\n",
    "        c3 = F.relu(self.conv2(s2))\n",
    "        # Subsampling layer S4: 2x2 grid, purely functional,\n",
    "        # this layer does not have any parameter, and outputs a (N, 16, 5, 5) Tensor\n",
    "        s4 = F.max_pool2d(c3, 2)\n",
    "        # Flatten operation: purely functional, outputs a (N, 400) Tensor\n",
    "        s4 = torch.flatten(s4, 1)\n",
    "        # Fully connected layer F5: (N, 400) Tensor input,\n",
    "        # and outputs a (N, 120) Tensor, it uses RELU activation function\n",
    "        f5 = F.relu(self.fc1(s4))\n",
    "        # Fully connected layer F6: (N, 120) Tensor input,\n",
    "        # and outputs a (N, 84) Tensor, it uses RELU activation function\n",
    "        f6 = F.relu(self.fc2(f5))\n",
    "        # Gaussian layer OUTPUT: (N, 84) Tensor input, and\n",
    "        # outputs a (N, 10) Tensor\n",
    "        output = self.fc3(f6)\n",
    "        return output\n",
    "\n",
    "\n",
    "net = Net()\n",
    "print(net)"
   ]
  },
  {
   "cell_type": "code",
   "execution_count": 3,
   "id": "fb089ce7c0230e5b",
   "metadata": {
    "ExecuteTime": {
     "end_time": "2024-08-30T12:44:40.174603Z",
     "start_time": "2024-08-30T12:44:40.153659Z"
    }
   },
   "outputs": [
    {
     "name": "stdout",
     "output_type": "stream",
     "text": [
      "10\n",
      "torch.Size([6, 1, 5, 5])\n"
     ]
    }
   ],
   "source": [
    "params = list(net.parameters())\n",
    "print(len(params))\n",
    "print(params[0].size())  # conv1's .weight"
   ]
  },
  {
   "cell_type": "code",
   "execution_count": 4,
   "id": "4cc963403a22dcee",
   "metadata": {
    "ExecuteTime": {
     "end_time": "2024-08-30T12:44:42.994054Z",
     "start_time": "2024-08-30T12:44:42.914074Z"
    }
   },
   "outputs": [
    {
     "name": "stdout",
     "output_type": "stream",
     "text": [
      "tensor([[-0.0534, -0.0346, -0.1005, -0.2244, -0.0727, -0.0020,  0.0082,  0.0221,\n",
      "         -0.1065, -0.0343]], grad_fn=<AddmmBackward0>)\n"
     ]
    }
   ],
   "source": [
    "input = torch.randn(1, 1, 32, 32)\n",
    "out = net(input)\n",
    "print(out)"
   ]
  },
  {
   "cell_type": "code",
   "execution_count": 5,
   "id": "c6a0fc569ae04a07",
   "metadata": {
    "ExecuteTime": {
     "end_time": "2024-08-30T12:47:45.768243Z",
     "start_time": "2024-08-30T12:47:44.198578Z"
    }
   },
   "outputs": [],
   "source": [
    "#Zero归零 the gradient buffers缓冲区 of all parameters and backprops可能是“替换为” with random gradients:\n",
    "net.zero_grad()\n",
    "out.backward(torch.randn(1, 10))"
   ]
  },
  {
   "cell_type": "code",
   "execution_count": null,
   "id": "2be6f4cbcd1bc324",
   "metadata": {},
   "outputs": [],
   "source": [
    "#Before proceeding further在继续之前, let’s recap 回顾all the classes you’ve seen so far.\n",
    " #Convenient方便的 way of encapsulating封装 parameters\n",
    " #assign分配"
   ]
  },
  {
   "cell_type": "code",
   "execution_count": 6,
   "id": "74995f1886e8dcc3",
   "metadata": {
    "ExecuteTime": {
     "end_time": "2024-08-30T12:56:28.252293Z",
     "start_time": "2024-08-30T12:56:28.213374Z"
    }
   },
   "outputs": [
    {
     "name": "stdout",
     "output_type": "stream",
     "text": [
      "tensor(2.2428, grad_fn=<MseLossBackward0>)\n"
     ]
    }
   ],
   "source": [
    "#Loss Function\n",
    "output = net(input)\n",
    "target = torch.randn(10)  # a dummy target, for example\n",
    "target = target.view(1, -1)  # make it the same shape as output\n",
    "criterion = nn.MSELoss()\n",
    "\n",
    "loss = criterion(output, target)\n",
    "print(loss)"
   ]
  },
  {
   "cell_type": "markdown",
   "id": "4ea1dd373e63e2df",
   "metadata": {},
   "source": []
  },
  {
   "cell_type": "markdown",
   "id": "3fea4203335952e",
   "metadata": {},
   "source": [
    "在神经网络中，ReLU（Rectified Linear Unit）、池化层（Pooling Layer）和全连接层（Fully Connected Layer）都是构建深度学习模型的重要组成部分。下面是对它们各自功能的简要说明：\n",
    "\n",
    "1. **ReLU (修正线性单元)**\n",
    "   - ReLU 是一种激活函数，它的数学表达式为 \\( f(x) = \\max(0, x) \\)。这意味着对于所有负值输入，输出为零；对于所有正值输入，输出等于输入。\n",
    "   - 它的主要优点是计算效率高，因为它只需要阈值操作就能实现非线性映射。ReLU 还有助于缓解梯度消失问题，这是在训练深层网络时可能出现的一个挑战。\n",
    "   - 在实践中，ReLU 被广泛应用于各种类型的神经网络中，尤其是在卷积神经网络（CNNs）中。\n",
    "\n",
    "2. **池化层 (Pooling Layer)**\n",
    "   - 池化层主要用于减少其输入的空间维度，即减小特征图的宽度和高度，从而降低接下来的网络层的计算复杂度。\n",
    "   - 最常见的池化类型是最大池化（Max Pooling），它通过选择一个区域内的最大值作为该区域的输出。还有平均池化（Average Pooling），它采用区域内的平均值。\n",
    "   - 池化操作不仅减少了参数数量和计算量，还提供了一定程度的平移不变性，这对于图像分类等任务是有益的。\n",
    "\n",
    "3. **全连接层 (Fully Connected Layer)**\n",
    "   - 全连接层是指每一神经元都与前一层的所有神经元相连。这种层通常位于神经网络的末尾，用于将前面层提取到的特征映射到最终的决策空间。\n",
    "   - 在图像分类任务中，全连接层通常接收来自卷积层或池化层的平坦化（Flattened）输出，并将其映射到分类标签上。\n",
    "   - 全连接层可以被视为一个标准的多层感知器（MLP），其中每个神经元都有权重和偏置，并且通常使用某种形式的激活函数（如ReLU）。\n",
    "\n",
    "ReLU（Rectified Linear Unit）作为一种激活函数，在深度学习中被广泛采用，主要是因为它带来了一系列的优点：\n",
    "\n",
    "1. **解决梯度消失问题**：\n",
    "   - 在深层网络中，传统的激活函数如sigmoid和tanh可能导致梯度消失问题，这是因为它们的导数在输入较大或较小时接近于0。而ReLU的导数对于所有正输入都是1，这有助于保持梯度大小，从而加速深层网络的训练过程。\n",
    "\n",
    "2. **计算效率**：\n",
    "   - ReLU 函数的计算非常简单，只需判断输入是否大于0即可，这比计算指数函数（如sigmoid）或除法运算（如tanh）要快得多。因此，使用 ReLU 可以显著加快训练速度。\n",
    "\n",
    "3. **稀疏激活**：\n",
    "   - ReLU 可以产生稀疏激活，即很多神经元的输出为0。这种稀疏性有助于模型学习更有效的表示，同时也减少了计算资源的需求。\n",
    "\n",
    "4. **生物启发**：\n",
    "   - 有理论认为，ReLU 的行为与大脑神经元的工作方式相似，即神经元在没有足够的刺激时不会激发（输出为0），而在足够强的刺激下则会激发（输出为正值）。\n",
    "\n",
    "尽管 ReLU 有很多优点，但它也有一些缺点，比如“死亡”ReLU 问题，即某些神经元可能会永久地关闭（因为它们的梯度为0，导致它们永远不会被更新）。为了解决这个问题，研究者们提出了许多变种，例如 Leaky ReLU、Parametric ReLU (PReLU) 和 Exponential Linear Units (ELUs) 等，它们试图保留 ReLU 的优点同时克服其局限性。\n",
    "激活函数在神经网络中扮演着至关重要的角色。它们被设计用来引入非线性因素，从而使神经网络能够学习和处理更为复杂的模式。以下是激活函数的一些关键作用：\n",
    "\n",
    "1. **引入非线性**：\n",
    "   - 单纯的线性变换不足以让神经网络模拟复杂的现实世界数据分布。激活函数通过在其输出中引入非线性，使网络能够拟合非线性关系的数据。如果没有激活函数，无论网络有多少层，输出都将是一个输入的线性组合，这就退化成了一个单层的线性模型。\n",
    "\n",
    "2. **决策边界**：\n",
    "   - 激活函数帮助定义神经元如何响应给定的输入。例如，在二分类问题中，sigmoid 函数可以将连续的输出转换为概率值，从而便于做出分类决策。\n",
    "\n",
    "3. **梯度传递**：\n",
    "   - 在反向传播过程中，激活函数的导数决定了权重调整的方向和大小。良好的激活函数应该能够有效地传递梯度，避免梯度消失或梯度爆炸的问题。\n",
    "\n",
    "4. **规范化输出**：\n",
    "   - 某些激活函数（如sigmoid或tanh）可以将任意范围内的输入值压缩到一个特定区间内（例如，\\(0\\) 到 \\(1\\) 或 \\(-1\\) 到 \\(1\\)），这有助于规范化输出，使其更适合后续处理或作为最终输出。\n",
    "\n",
    "5. **生物学上的合理性**：\n",
    "   - 激活函数有时也考虑了生物学上的合理性，即试图模仿生物神经元的行为。例如，ReLU 的“全或无”特性类似于真实神经元的行为。\n",
    "\n",
    "常见的激活函数包括但不限于 Sigmoid、tanh（双曲正切函数）、ReLU（修正线性单元）及其变体（如 Leaky ReLU、PReLU、ELU 等）。每种激活函数都有其适用场景和特点，选择合适的激活函数可以根据具体问题来优化模型的表现。"
   ]
  },
  {
   "cell_type": "code",
   "execution_count": 10,
   "id": "4559f0e5fe7dfd65",
   "metadata": {
    "ExecuteTime": {
     "end_time": "2024-08-30T13:25:43.798483Z",
     "start_time": "2024-08-30T13:25:43.784761Z"
    }
   },
   "outputs": [
    {
     "name": "stdout",
     "output_type": "stream",
     "text": [
      "<MseLossBackward0 object at 0x000001B049FA0C10>\n",
      "<AddmmBackward0 object at 0x000001B049FA0730>\n",
      "<AccumulateGrad object at 0x000001B049FA0EB0>\n"
     ]
    }
   ],
   "source": [
    "print(loss.grad_fn)  # MSELoss\n",
    "print(loss.grad_fn.next_functions[0][0])  # Linear\n",
    "print(loss.grad_fn.next_functions[0][0].next_functions[0][0])  # ReLU"
   ]
  },
  {
   "cell_type": "code",
   "execution_count": 11,
   "id": "d1f8921c05623755",
   "metadata": {
    "ExecuteTime": {
     "end_time": "2024-08-30T13:28:25.434153Z",
     "start_time": "2024-08-30T13:28:25.414500Z"
    }
   },
   "outputs": [
    {
     "name": "stdout",
     "output_type": "stream",
     "text": [
      "conv1.bias.grad before backward\n",
      "None\n",
      "conv1.bias.grad after backward\n",
      "tensor([ 0.0208,  0.0318,  0.0525,  0.0112, -0.0020,  0.0179])\n"
     ]
    }
   ],
   "source": [
    "#To backpropagate反向传播 the error all we have to do is to loss.backward(). You need to clear the existing gradients though, else gradients will be accumulated累计 to existing gradients.\n",
    "net.zero_grad()     # zeroes the gradient buffers of all parameters\n",
    "\n",
    "print('conv1.bias.grad before backward')\n",
    "print(net.conv1.bias.grad)\n",
    "\n",
    "loss.backward()\n",
    "\n",
    "print('conv1.bias.grad after backward')\n",
    "print(net.conv1.bias.grad)"
   ]
  },
  {
   "cell_type": "code",
   "execution_count": 12,
   "id": "50cc3880955b3aa4",
   "metadata": {
    "ExecuteTime": {
     "end_time": "2024-08-30T14:07:02.303012Z",
     "start_time": "2024-08-30T14:07:02.271542Z"
    }
   },
   "outputs": [],
   "source": [
    "#Update the weights\n",
    "#The simplest update rule used in practice is the Stochastic随机 Gradient Descent下降 (SGD):\n",
    "#weight = weight - learning_rate * gradient\n",
    "learning_rate = 0.01\n",
    "for f in net.parameters():\n",
    "    f.data.sub_(f.grad.data * learning_rate)"
   ]
  },
  {
   "cell_type": "code",
   "execution_count": 13,
   "id": "62605ba4ae6e770",
   "metadata": {
    "ExecuteTime": {
     "end_time": "2024-08-30T14:07:50.903029Z",
     "start_time": "2024-08-30T14:07:50.226666Z"
    }
   },
   "outputs": [],
   "source": [
    "import torch.optim as optim\n",
    "\n",
    "# create your optimizer\n",
    "optimizer = optim.SGD(net.parameters(), lr=0.01)\n",
    "\n",
    "# in your training loop:\n",
    "optimizer.zero_grad()   # zero the gradient buffers\n",
    "output = net(input)\n",
    "loss = criterion(output, target)\n",
    "loss.backward()\n",
    "optimizer.step()    # Does the update"
   ]
  },
  {
   "cell_type": "markdown",
   "id": "1bc51f5fbf918081",
   "metadata": {},
   "source": [
    "## 就是说在每次计算之前都需要将梯度缓冲池归零。"
   ]
  },
  {
   "cell_type": "code",
   "execution_count": null,
   "id": "5fa50a50365fdf48",
   "metadata": {},
   "outputs": [],
   "source": []
  },
  {
   "cell_type": "markdown",
   "id": "8a89b8a86b68558c",
   "metadata": {},
   "source": [
    "# Training a Classifier\n",
    "\n",
    "\n",
    "    Load and normalize the CIFAR10 training and test datasets using torchvision\n",
    "\n",
    "    Define a Convolutional Neural Network\n",
    "\n",
    "    Define a loss function\n",
    "\n",
    "    Train the network on the training data\n",
    "\n",
    "    Test the network on the test data\n"
   ]
  },
  {
   "cell_type": "code",
   "execution_count": 14,
   "id": "905ef3da13cfa0bf",
   "metadata": {
    "ExecuteTime": {
     "end_time": "2024-08-30T14:23:53.149735Z",
     "start_time": "2024-08-30T14:17:27.374095Z"
    }
   },
   "outputs": [
    {
     "name": "stdout",
     "output_type": "stream",
     "text": [
      "Downloading https://www.cs.toronto.edu/~kriz/cifar-10-python.tar.gz to ./data\\cifar-10-python.tar.gz\n"
     ]
    },
    {
     "name": "stderr",
     "output_type": "stream",
     "text": [
      "100%|██████████| 170498071/170498071 [06:16<00:00, 453078.53it/s] \n"
     ]
    },
    {
     "name": "stdout",
     "output_type": "stream",
     "text": [
      "Extracting ./data\\cifar-10-python.tar.gz to ./data\n",
      "Files already downloaded and verified\n"
     ]
    }
   ],
   "source": [
    "#Load and normalize CIFAR10\n",
    "import torch\n",
    "import torchvision\n",
    "import torchvision.transforms as transforms\n",
    "\n",
    "transform = transforms.Compose(\n",
    "    [transforms.ToTensor(),\n",
    "     transforms.Normalize((0.5, 0.5, 0.5), (0.5, 0.5, 0.5))])\n",
    "\n",
    "batch_size = 4\n",
    "\n",
    "trainset = torchvision.datasets.CIFAR10(root='./data', train=True,\n",
    "                                        download=True, transform=transform)\n",
    "trainloader = torch.utils.data.DataLoader(trainset, batch_size=batch_size,\n",
    "                                          shuffle=True, num_workers=2)\n",
    "\n",
    "testset = torchvision.datasets.CIFAR10(root='./data', train=False,\n",
    "                                       download=True, transform=transform)\n",
    "testloader = torch.utils.data.DataLoader(testset, batch_size=batch_size,\n",
    "                                         shuffle=False, num_workers=2)\n",
    "\n",
    "classes = ('plane', 'car', 'bird', 'cat',\n",
    "           'deer', 'dog', 'frog', 'horse', 'ship', 'truck')"
   ]
  },
  {
   "cell_type": "code",
   "execution_count": 15,
   "id": "aca455b0ee485f3e",
   "metadata": {
    "ExecuteTime": {
     "end_time": "2024-08-30T14:25:41.461412Z",
     "start_time": "2024-08-30T14:25:26.199583Z"
    }
   },
   "outputs": [
    {
     "data": {
      "image/png": "[encoded data removed]",
      "text/plain": [
       "<Figure size 640x480 with 1 Axes>"
      ]
     },
     "metadata": {},
     "output_type": "display_data"
    },
    {
     "name": "stdout",
     "output_type": "stream",
     "text": [
      "horse frog  cat   horse\n"
     ]
    }
   ],
   "source": [
    "import matplotlib.pyplot as plt\n",
    "import numpy as np\n",
    "\n",
    "# functions to show an image\n",
    "\n",
    "\n",
    "def imshow(img):\n",
    "    img = img / 2 + 0.5     # unnormalize\n",
    "    npimg = img.numpy()\n",
    "    plt.imshow(np.transpose(npimg, (1, 2, 0)))\n",
    "    plt.show()\n",
    "\n",
    "\n",
    "# get some random training images\n",
    "dataiter = iter(trainloader)\n",
    "images, labels = next(dataiter)\n",
    "\n",
    "# show images\n",
    "imshow(torchvision.utils.make_grid(images))\n",
    "# print labels\n",
    "print(' '.join(f'{classes[labels[j]]:5s}' for j in range(batch_size)))"
   ]
  },
  {
   "cell_type": "code",
   "execution_count": 16,
   "id": "45449bbf3ed45ebf",
   "metadata": {
    "ExecuteTime": {
     "end_time": "2024-08-30T14:29:01.605868Z",
     "start_time": "2024-08-30T14:29:01.587914Z"
    }
   },
   "outputs": [],
   "source": [
    "# Define a Convolutional Neural Network\n",
    "import torch.nn as nn\n",
    "import torch.nn.functional as F\n",
    "\n",
    "\n",
    "class Net(nn.Module):\n",
    "    def __init__(self):\n",
    "        super().__init__()\n",
    "        self.conv1 = nn.Conv2d(3, 6, 5)\n",
    "        self.pool = nn.MaxPool2d(2, 2)\n",
    "        self.conv2 = nn.Conv2d(6, 16, 5)\n",
    "        self.fc1 = nn.Linear(16 * 5 * 5, 120)\n",
    "        self.fc2 = nn.Linear(120, 84)\n",
    "        self.fc3 = nn.Linear(84, 10)\n",
    "\n",
    "    def forward(self, x):\n",
    "        x = self.pool(F.relu(self.conv1(x)))\n",
    "        x = self.pool(F.relu(self.conv2(x)))\n",
    "        x = torch.flatten(x, 1) # flatten all dimensions except batch\n",
    "        x = F.relu(self.fc1(x))\n",
    "        x = F.relu(self.fc2(x))\n",
    "        x = self.fc3(x)\n",
    "        return x\n",
    "\n",
    "\n",
    "net = Net()"
   ]
  },
  {
   "cell_type": "code",
   "execution_count": 17,
   "id": "676f5ba8dccf88d6",
   "metadata": {
    "ExecuteTime": {
     "end_time": "2024-08-30T14:29:32.263725Z",
     "start_time": "2024-08-30T14:29:32.250760Z"
    }
   },
   "outputs": [],
   "source": [
    "# Define a Loss function and optimizer  \n",
    "import torch.optim as optim\n",
    "\n",
    "criterion = nn.CrossEntropyLoss()\n",
    "optimizer = optim.SGD(net.parameters(), lr=0.001, momentum=0.9)"
   ]
  },
  {
   "cell_type": "code",
   "execution_count": 18,
   "id": "29cbe38d5156c89c",
   "metadata": {
    "ExecuteTime": {
     "end_time": "2024-08-30T14:33:15.643830Z",
     "start_time": "2024-08-30T14:31:26.773323Z"
    }
   },
   "outputs": [
    {
     "name": "stdout",
     "output_type": "stream",
     "text": [
      "[1,  2000] loss: 2.160\n",
      "[1,  4000] loss: 1.815\n",
      "[1,  6000] loss: 1.662\n",
      "[1,  8000] loss: 1.603\n",
      "[1, 10000] loss: 1.543\n",
      "[1, 12000] loss: 1.456\n",
      "[2,  2000] loss: 1.393\n",
      "[2,  4000] loss: 1.347\n",
      "[2,  6000] loss: 1.320\n",
      "[2,  8000] loss: 1.334\n",
      "[2, 10000] loss: 1.334\n",
      "[2, 12000] loss: 1.288\n",
      "Finished Training\n"
     ]
    }
   ],
   "source": [
    "# Train the network\n",
    "for epoch in range(2):  # loop over the dataset multiple times\n",
    "\n",
    "    running_loss = 0.0\n",
    "    for i, data in enumerate(trainloader, 0):\n",
    "        # get the inputs; data is a list of [inputs, labels]\n",
    "        inputs, labels = data\n",
    "\n",
    "        # zero the parameter gradients\n",
    "        optimizer.zero_grad()\n",
    "\n",
    "        # forward + backward + optimize\n",
    "        outputs = net(inputs)\n",
    "        loss = criterion(outputs, labels)\n",
    "        loss.backward()\n",
    "        optimizer.step()\n",
    "\n",
    "        # print statistics\n",
    "        running_loss += loss.item()\n",
    "        if i % 2000 == 1999:    # print every 2000 mini-batches\n",
    "            print(f'[{epoch + 1}, {i + 1:5d}] loss: {running_loss / 2000:.3f}')\n",
    "            running_loss = 0.0\n",
    "\n",
    "print('Finished Training')"
   ]
  },
  {
   "cell_type": "code",
   "execution_count": 19,
   "id": "8a11f3ddd83251f5",
   "metadata": {
    "ExecuteTime": {
     "end_time": "2024-08-30T14:34:07.933441Z",
     "start_time": "2024-08-30T14:34:07.919481Z"
    }
   },
   "outputs": [],
   "source": [
    "#Let’s quickly save our trained model:\n",
    "PATH = './cifar_net.pth'\n",
    "torch.save(net.state_dict(), PATH)"
   ]
  },
  {
   "cell_type": "code",
   "execution_count": 20,
   "id": "251737e6038df54",
   "metadata": {
    "ExecuteTime": {
     "end_time": "2024-08-30T14:37:32.138013Z",
     "start_time": "2024-08-30T14:37:21.908623Z"
    }
   },
   "outputs": [
    {
     "data": {
      "image/png": "[encoded data removed]",
      "text/plain": [
       "<Figure size 640x480 with 1 Axes>"
      ]
     },
     "metadata": {},
     "output_type": "display_data"
    },
    {
     "name": "stdout",
     "output_type": "stream",
     "text": [
      "GroundTruth:  cat   ship  ship  plane\n"
     ]
    }
   ],
   "source": [
    "#Test the network on the test data\n",
    "dataiter = iter(testloader)\n",
    "images, labels = next(dataiter)\n",
    "\n",
    "# print images\n",
    "imshow(torchvision.utils.make_grid(images))\n",
    "print('GroundTruth: ', ' '.join(f'{classes[labels[j]]:5s}' for j in range(4)))"
   ]
  },
  {
   "cell_type": "code",
   "execution_count": 21,
   "id": "99d7cc9239a67eb4",
   "metadata": {
    "ExecuteTime": {
     "end_time": "2024-08-30T14:38:40.653569Z",
     "start_time": "2024-08-30T14:38:40.630628Z"
    }
   },
   "outputs": [
    {
     "data": {
      "text/plain": [
       "<All keys matched successfully>"
      ]
     },
     "execution_count": 21,
     "metadata": {},
     "output_type": "execute_result"
    }
   ],
   "source": [
    "net = Net()\n",
    "net.load_state_dict(torch.load(PATH, weights_only=True))"
   ]
  },
  {
   "cell_type": "code",
   "execution_count": 22,
   "id": "2bf2942121a2dc0c",
   "metadata": {
    "ExecuteTime": {
     "end_time": "2024-08-30T14:39:44.353843Z",
     "start_time": "2024-08-30T14:39:44.334776Z"
    }
   },
   "outputs": [
    {
     "name": "stdout",
     "output_type": "stream",
     "text": [
      "Predicted:  cat   car   truck ship \n"
     ]
    }
   ],
   "source": [
    "outputs = net(images)\n",
    "_, predicted = torch.max(outputs, 1)\n",
    "\n",
    "print('Predicted: ', ' '.join(f'{classes[predicted[j]]:5s}'\n",
    "                              for j in range(4)))"
   ]
  },
  {
   "cell_type": "code",
   "execution_count": 23,
   "id": "94725df0f70228f0",
   "metadata": {
    "ExecuteTime": {
     "end_time": "2024-08-30T14:40:37.361267Z",
     "start_time": "2024-08-30T14:40:23.181570Z"
    }
   },
   "outputs": [
    {
     "name": "stdout",
     "output_type": "stream",
     "text": [
      "Accuracy of the network on the 10000 test images: 54 %\n"
     ]
    }
   ],
   "source": [
    "correct = 0\n",
    "total = 0\n",
    "# since we're not training, we don't need to calculate the gradients for our outputs\n",
    "with torch.no_grad():\n",
    "    for data in testloader:\n",
    "        images, labels = data\n",
    "        # calculate outputs by running images through the network\n",
    "        outputs = net(images)\n",
    "        # the class with the highest energy is what we choose as prediction\n",
    "        _, predicted = torch.max(outputs.data, 1)\n",
    "        total += labels.size(0)\n",
    "        correct += (predicted == labels).sum().item()\n",
    "\n",
    "print(f'Accuracy of the network on the 10000 test images: {100 * correct // total} %')"
   ]
  },
  {
   "cell_type": "code",
   "execution_count": 24,
   "id": "b25be69d363581d9",
   "metadata": {
    "ExecuteTime": {
     "end_time": "2024-08-30T14:42:00.728158Z",
     "start_time": "2024-08-30T14:41:38.303297Z"
    }
   },
   "outputs": [
    {
     "name": "stdout",
     "output_type": "stream",
     "text": [
      "Accuracy for class: plane is 65.5 %\n",
      "Accuracy for class: car   is 67.8 %\n",
      "Accuracy for class: bird  is 50.5 %\n",
      "Accuracy for class: cat   is 22.5 %\n",
      "Accuracy for class: deer  is 46.7 %\n",
      "Accuracy for class: dog   is 37.7 %\n",
      "Accuracy for class: frog  is 64.2 %\n",
      "Accuracy for class: horse is 65.4 %\n",
      "Accuracy for class: ship  is 53.9 %\n",
      "Accuracy for class: truck is 72.4 %\n"
     ]
    }
   ],
   "source": [
    "# prepare to count predictions for each class\n",
    "correct_pred = {classname: 0 for classname in classes}\n",
    "total_pred = {classname: 0 for classname in classes}\n",
    "\n",
    "# again no gradients needed\n",
    "with torch.no_grad():\n",
    "    for data in testloader:\n",
    "        images, labels = data\n",
    "        outputs = net(images)\n",
    "        _, predictions = torch.max(outputs, 1)\n",
    "        # collect the correct predictions for each class\n",
    "        for label, prediction in zip(labels, predictions):\n",
    "            if label == prediction:\n",
    "                correct_pred[classes[label]] += 1\n",
    "            total_pred[classes[label]] += 1\n",
    "\n",
    "\n",
    "# print accuracy for each class\n",
    "for classname, correct_count in correct_pred.items():\n",
    "    accuracy = 100 * float(correct_count) / total_pred[classname]\n",
    "    print(f'Accuracy for class: {classname:5s} is {accuracy:.1f} %')"
   ]
  },
  {
   "cell_type": "code",
   "execution_count": 25,
   "id": "493e62176b0f2dca",
   "metadata": {
    "ExecuteTime": {
     "end_time": "2024-08-30T14:44:51.239406Z",
     "start_time": "2024-08-30T14:44:51.221455Z"
    }
   },
   "outputs": [
    {
     "name": "stdout",
     "output_type": "stream",
     "text": [
      "cuda:0\n"
     ]
    }
   ],
   "source": [
    "#Training on GPU\n",
    "device = torch.device('cuda:0' if torch.cuda.is_available() else 'cpu')\n",
    "\n",
    "# Assuming that we are on a CUDA machine, this should print a CUDA device:\n",
    "\n",
    "print(device)"
   ]
  },
  {
   "cell_type": "code",
   "execution_count": 26,
   "id": "4f4a9c361a150913",
   "metadata": {
    "ExecuteTime": {
     "end_time": "2024-08-30T14:53:15.017011Z",
     "start_time": "2024-08-30T14:53:14.834903Z"
    }
   },
   "outputs": [],
   "source": [
    "#Then these methods will recursively递归 go over all modules and convert their parameters and buffers to CUDA tensors:\n",
    "net.to(device)\n",
    "inputs, labels = data[0].to(device), data[1].to(device)"
   ]
  },
  {
   "cell_type": "code",
   "execution_count": null,
   "id": "bcc8e12eadaef52d",
   "metadata": {},
   "outputs": [],
   "source": []
  }
 ],
 "metadata": {
  "kernelspec": {
   "display_name": "Python 3 (ipykernel)",
   "language": "python",
   "name": "python3"
  },
  "language_info": {
   "codemirror_mode": {
    "name": "ipython",
    "version": 3
   },
   "file_extension": ".py",
   "mimetype": "text/x-python",
   "name": "python",
   "nbconvert_exporter": "python",
   "pygments_lexer": "ipython3",
   "version": "3.9.19"
  },
  "widgets": {
   "application/vnd.jupyter.widget-state+json": {
    "state": {},
    "version_major": 2,
    "version_minor": 0
   }
  }
 },
 "nbformat": 4,
 "nbformat_minor": 5
}
